{
 "cells": [
  {
   "cell_type": "code",
   "execution_count": 1,
   "metadata": {
    "collapsed": true
   },
   "outputs": [],
   "source": [
    "from text_preprocess import Preprocessing\n",
    "\n",
    "outline_file = \"test200.v2.0\\\\all.test200.cbor.outlines\"\n",
    "paragraph_file = \"test200.v2.0\\\\all.test200.cbor.paragraphs\"\n",
    "preprocessing = Preprocessing(outline_file, paragraph_file)\n",
    "queries_list_full = preprocessing.get_raw_queries()\n",
    "paragraphs_list_full = preprocessing.get_raw_paragraphs()\n"
   ]
  },
  {
   "cell_type": "code",
   "execution_count": 14,
   "metadata": {},
   "outputs": [],
   "source": [
    "queries_list = queries_list_full[0:1]\n",
    "paragraphs_list = paragraphs_list_full[0:100]"
   ]
  },
  {
   "cell_type": "code",
   "execution_count": 12,
   "metadata": {
    "collapsed": true
   },
   "outputs": [
    {
     "name": "stdout",
     "output_type": "stream",
     "text": [
      "('Hog-dog%20rodeo/Typical%20match', 'Hog-dog rodeo Typical match', ['hogdog', 'rodeo', 'typic', 'match'])\n"
     ]
    }
   ],
   "source": [
    "import pprint\n",
    "# pprint.pprint(paragraphs_list[0])\n",
    "print(queries_list[0])"
   ]
  },
  {
   "cell_type": "code",
   "execution_count": 26,
   "metadata": {},
   "outputs": [
    {
     "name": "stdout",
     "output_type": "stream",
     "text": [
      "Hog-dog%20rodeo/Typical%20match  best:\n(37, 0.099437246870428)\n['cne', 'system', 'work', 'within', 'closedloop', 'environ', 'perceiv', 'perhap', 'artifici', 'environ', 'direct', 'rather', 'human', 'input', 'typic', 'ai', 'systemsref', 'namefranklin', 'exampl', 'barlow', 'et', 'al', 'develop', 'timedepend', 'model', 'retina', 'horsesho', 'crab', 'limulus', 'polyphemus', 'connect', 'machin', 'model', 'cm2', 'instead', 'feed', 'model', 'retina', 'ideal', 'input', 'signal', 'expos', 'simul', 'digit', 'video', 'sequenc', 'made', 'underwat', 'compar', 'respons', 'real', 'anim']\n"
     ]
    }
   ],
   "source": [
    "from BM25 import BM25\n",
    "import operator\n",
    "\n",
    "bm25 = BM25(paragraphs_list)\n",
    "query = queries_list[0][2]\n",
    "scores = bm25.BM25Score(query)\n",
    "\n",
    "scores = {}\n",
    "\n",
    "for q in queries_list:\n",
    "    query = q[2]\n",
    "    score = bm25.BM25Score(query)\n",
    "    scores[q[0]] = score\n",
    "\n",
    "for key, value in scores.items():\n",
    "    print(key, \" best:\")\n",
    "    ranking = sorted(enumerate(value), key=operator.itemgetter(1), reverse=True)\n",
    "    print(ranking[0])\n",
    "    print(paragraphs_list[ranking[0][0]])\n",
    "\n",
    "    # for i, bm25score in enumerate(s):\n",
    "    #     print(i, bm25score)\n",
    "\n"
   ]
  }
 ],
 "metadata": {
  "kernelspec": {
   "display_name": "Python 2",
   "language": "python",
   "name": "python2"
  },
  "language_info": {
   "codemirror_mode": {
    "name": "ipython",
    "version": 2
   },
   "file_extension": ".py",
   "mimetype": "text/x-python",
   "name": "python",
   "nbconvert_exporter": "python",
   "pygments_lexer": "ipython2",
   "version": "2.7.6"
  }
 },
 "nbformat": 4,
 "nbformat_minor": 0
}
