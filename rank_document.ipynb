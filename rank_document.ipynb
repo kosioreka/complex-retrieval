{
 "cells": [
  {
   "cell_type": "code",
   "execution_count": 1,
   "metadata": {
    "collapsed": true
   },
   "outputs": [],
   "source": [
    "from text_preprocess import Preprocessing\n",
    "\n",
    "outline_file = \"test200.v2.0\\\\all.test200.cbor.outlines\"\n",
    "paragraph_file = \"test200.v2.0\\\\all.test200.cbor.paragraphs\"\n",
    "preprocessing = Preprocessing(outline_file, paragraph_file)\n",
    "queries_list_full = preprocessing.get_raw_queries()\n",
    "paragraphs_list = preprocessing.get_raw_paragraphs()\n"
   ]
  },
  {
   "cell_type": "code",
   "execution_count": 1,
   "metadata": {},
   "outputs": [],
   "source": [
    "queries_list = queries_list_full[0:1]"
   ]
  },
  {
   "cell_type": "code",
   "execution_count": 12,
   "metadata": {
    "collapsed": true
   },
   "outputs": [],
   "source": [
    "from gensim import corpora\n",
    "\n",
    "dictionary = corpora.Dictionary()\n",
    "tmp = []\n",
    "for key, value in paragraphs_list.items():\n",
    "    tmp.append(value)\n",
    "\n",
    "dictionary.add_documents(tmp)"
   ]
  },
  {
   "cell_type": "code",
   "execution_count": 4,
   "metadata": {},
   "outputs": [
    {
     "name": "stdout",
     "output_type": "stream",
     "text": [
      "Hog-dog%20rodeo/Typical%20match  best:\n(3817, 3.0880076224001582)\n"
     ]
    },
    {
     "ename": "KeyError",
     "evalue": "3817",
     "traceback": [
      "\u001b[0;31m---------------------------------------------------------------------------\u001b[0m",
      "\u001b[0;31mKeyError\u001b[0m                                  Traceback (most recent call last)",
      "\u001b[0;32m<ipython-input-4-28a053179706>\u001b[0m in \u001b[0;36m<module>\u001b[0;34m()\u001b[0m\n\u001b[1;32m     17\u001b[0m     \u001b[0mranking\u001b[0m \u001b[0;34m=\u001b[0m \u001b[0msorted\u001b[0m\u001b[0;34m(\u001b[0m\u001b[0menumerate\u001b[0m\u001b[0;34m(\u001b[0m\u001b[0mvalue\u001b[0m\u001b[0;34m)\u001b[0m\u001b[0;34m,\u001b[0m \u001b[0mkey\u001b[0m\u001b[0;34m=\u001b[0m\u001b[0moperator\u001b[0m\u001b[0;34m.\u001b[0m\u001b[0mitemgetter\u001b[0m\u001b[0;34m(\u001b[0m\u001b[0;36m1\u001b[0m\u001b[0;34m)\u001b[0m\u001b[0;34m,\u001b[0m \u001b[0mreverse\u001b[0m\u001b[0;34m=\u001b[0m\u001b[0;32mTrue\u001b[0m\u001b[0;34m)\u001b[0m\u001b[0;34m\u001b[0m\u001b[0m\n\u001b[1;32m     18\u001b[0m     \u001b[0mprint\u001b[0m\u001b[0;34m(\u001b[0m\u001b[0mranking\u001b[0m\u001b[0;34m[\u001b[0m\u001b[0;36m0\u001b[0m\u001b[0;34m]\u001b[0m\u001b[0;34m)\u001b[0m\u001b[0;34m\u001b[0m\u001b[0m\n\u001b[0;32m---> 19\u001b[0;31m     \u001b[0mprint\u001b[0m\u001b[0;34m(\u001b[0m\u001b[0mparagraphs_list\u001b[0m\u001b[0;34m[\u001b[0m\u001b[0mranking\u001b[0m\u001b[0;34m[\u001b[0m\u001b[0;36m0\u001b[0m\u001b[0;34m]\u001b[0m\u001b[0;34m[\u001b[0m\u001b[0;36m0\u001b[0m\u001b[0;34m]\u001b[0m\u001b[0;34m]\u001b[0m\u001b[0;34m)\u001b[0m\u001b[0;34m\u001b[0m\u001b[0m\n\u001b[0m\u001b[1;32m     20\u001b[0m \u001b[0;34m\u001b[0m\u001b[0m\n\u001b[1;32m     21\u001b[0m     \u001b[0;31m# for i, bm25score in enumerate(s):\u001b[0m\u001b[0;34m\u001b[0m\u001b[0;34m\u001b[0m\u001b[0m\n",
      "\u001b[0;31mKeyError\u001b[0m: 3817"
     ],
     "output_type": "error"
    }
   ],
   "source": [
    "from BM25 import BM25\n",
    "import operator\n",
    "\n",
    "bm25 = BM25(paragraphs_list)\n",
    "query = queries_list[0][2]\n",
    "scores = bm25.BM25Score(query)\n",
    "\n",
    "scores = {}\n",
    "\n",
    "for q in queries_list:\n",
    "    query = q[2]\n",
    "    score = bm25.BM25Score(query)\n",
    "    scores[q[0]] = score\n",
    "\n",
    "for key, value in scores.items():\n",
    "    print(key, \" best:\")\n",
    "    ranking = sorted(enumerate(value), key=operator.itemgetter(1), reverse=True)\n",
    "    print(ranking[0])\n",
    "    \n",
    "\n",
    "    # for i, bm25score in enumerate(s):\n",
    "    #     print(i, bm25score)\n",
    "\n"
   ]
  }
 ],
 "metadata": {
  "kernelspec": {
   "display_name": "Python 2",
   "language": "python",
   "name": "python2"
  },
  "language_info": {
   "codemirror_mode": {
    "name": "ipython",
    "version": 2
   },
   "file_extension": ".py",
   "mimetype": "text/x-python",
   "name": "python",
   "nbconvert_exporter": "python",
   "pygments_lexer": "ipython2",
   "version": "2.7.6"
  }
 },
 "nbformat": 4,
 "nbformat_minor": 0
}
